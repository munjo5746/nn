{
 "cells": [
  {
   "cell_type": "markdown",
   "execution_count": null,
   "metadata": {},
   "outputs": [],
   "source": [
    "# Gradient Descent\n",
    "The Gradient Descent is an optimization algorithm that finds local minimum of a function. The algorithm consists of few parts.\n",
    "\n",
    "- Step: this determines the amount the algorithm moves on the next iteration.\n",
    "- Gradient: this determines the direction that the algorithm should move on the next iteration.\n",
    "- Cost function: this measures how good the algorithm estimated the target value.\n",
    "\n",
    "In the mathematical form, it is\n",
    "\n",
    "$$a_{n+1}=a_n - \\theta \\nabla f(a_n)$$\n",
    "\n",
    "where $\\theta$ is a step, $n$ is the current iteration and $f$ is the function.\n",
    "\n",
    "## What is the purpose of the algorithm?\n",
    "The definition of an algorithm, according to wikipedia is the following.\n",
    "\n",
    "> An algorithm is a finite sequence of well-defined, computer-implementable instructions, typically to solve a class of problems or to perform a computation.\n",
    "\n",
    "The Gradient Descent algorithm is a iterative process to solve a specific problem, where the problem is depends on the application on hands. The hope is to make $a_{n+1}$ closer to the targeted value in every iteration.\n",
    "\n",
    "## How to measure if the algorithm is doing well?\n",
    "In order to judge if the algorithm is doing well, in other words, to judge if on every iteration that $a_{n+1}$ gets closer to the targeted value, we need a cost function. This function takes the current estimated value at $n$th iteration, and previous value at $n-1$th iteration and computes the difference. If the difference is large, it means that the algorithm did bad at estimating the value at $n$th iteration, otherwise, it did pretty ok. Once of the key things in this algorithm is to minimize this measure which indicates that the algorithm did well.\n",
    "\n",
    "One well known cost function is sum of squared differences, which in mathematicall form is the following.\n",
    "\n",
    "$$C = \\frac{1}{N}\\sum_1^N (a_{n+1} - a_n)^2$$\n"
   ]
  }
 ],
 "metadata": {
  "kernelspec": {
   "display_name": "Python 3",
   "language": "python",
   "name": "python3"
  },
  "language_info": {
   "codemirror_mode": {
    "name": "ipython",
    "version": 3
   },
   "file_extension": ".py",
   "mimetype": "text/x-python",
   "name": "python",
   "nbconvert_exporter": "python",
   "pygments_lexer": "ipython3",
   "version": "3.7.2-final"
  }
 },
 "nbformat": 4,
 "nbformat_minor": 2
}