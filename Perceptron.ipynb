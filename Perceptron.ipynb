{
 "nbformat": 4,
 "nbformat_minor": 2,
 "metadata": {
  "language_info": {
   "name": "python",
   "codemirror_mode": {
    "name": "ipython",
    "version": 3
   },
   "version": "3.7.4-final"
  },
  "orig_nbformat": 2,
  "file_extension": ".py",
  "mimetype": "text/x-python",
  "name": "python",
  "npconvert_exporter": "python",
  "pygments_lexer": "ipython3",
  "version": 3,
  "kernelspec": {
   "name": "python37464bitanaconda3conda43f10a787f9f4639befc426555c44d95",
   "display_name": "Python 3.7.4 64-bit ('anaconda3': conda)"
  }
 },
 "cells": [
  {
   "cell_type": "markdown",
   "execution_count": null,
   "metadata": {},
   "outputs": [],
   "source": [
    "# Perceptron\n",
    "The perceptron is an algorithm for binary classifier. Based on the inputs, it outputs two possible values, 0 or 1.\n",
    "\n",
    "$$ \n",
    "f(x) =\n",
    "\\begin{cases}\n",
    "    1,\\ w \\cdot x + b > 0 \\\\\n",
    "    0,\\ w \\cdot x + b \\leq 0\n",
    "\\end{cases}\n",
    "$$\n",
    "\n",
    "where $w$ and $x$ are vectors, $b$ is scalar bias.\n",
    "\n",
    "The goal of the algorithm is to find $w$ and $b$ so that it classifies binary data properly."
   ]
  },
  {
   "cell_type": "code",
   "execution_count": 1,
   "metadata": {},
   "outputs": [],
   "source": [
    "import matplotlib.pyplot as plt\n"
   ]
  },
  {
   "cell_type": "code",
   "execution_count": null,
   "metadata": {},
   "outputs": [],
   "source": []
  },
  {
   "cell_type": "code",
   "execution_count": null,
   "metadata": {},
   "outputs": [],
   "source": []
  }
 ]
}