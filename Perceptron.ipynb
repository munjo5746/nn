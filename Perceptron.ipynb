{
 "nbformat": 4,
 "nbformat_minor": 2,
 "metadata": {
  "language_info": {
   "name": "python",
   "codemirror_mode": {
    "name": "ipython",
    "version": 3
   },
   "version": "3.7.4-final"
  },
  "orig_nbformat": 2,
  "file_extension": ".py",
  "mimetype": "text/x-python",
  "name": "python",
  "npconvert_exporter": "python",
  "pygments_lexer": "ipython3",
  "version": 3,
  "kernelspec": {
   "name": "python37464bitanaconda3conda43f10a787f9f4639befc426555c44d95",
   "display_name": "Python 3.7.4 64-bit ('anaconda3': conda)"
  }
 },
 "cells": [
  {
   "cell_type": "markdown",
   "execution_count": null,
   "metadata": {},
   "outputs": [],
   "source": [
    "# Perceptron\n",
    "The perceptron is an iterative algorithm that classifies binary separable data. The algorithm takes multiple inputs ($x_i$), the weights, $w_i$ that tells how important the input $x_i$ is and outputs 1 if the sum of $x_i * w_i$ is greater than threshold, $b$. In mathematical form, this can be defined as \n",
    "$$\n",
    "   1\\ if\\  \\sum_{i=1}^N w_i * x_i > b, 0\\ otherwise\n",
    "$$\n",
    "where $N$ is number of inputs.\n",
    "\n",
    "If we move the term $b$ to the other side and define the output as $f(x)$, then it goes\n",
    "$$\n",
    "    f(x) = \n",
    "    \\begin{cases}\n",
    "        1,\\ \\sum_{i=1}^N x_i * w_i + b > 0 \\\\\n",
    "        0,\\ otherwise\n",
    "    \\end{cases}\n",
    "$$\n",
    "\n",
    "This equation can be simplified using vector notation. By including $b$ as one of the weights, then the above becomes\n",
    "\n",
    "$$ \n",
    "f(x) =\n",
    "\\begin{cases}\n",
    "    1,\\ w \\cdot x  > 0 \\\\\n",
    "    0, otherwise\n",
    "\\end{cases}\n",
    "$$\n",
    "\n",
    "where $w = (b, w_1, w_2, \\ldots, w_N)$ and $x = (1, x_1, x_2, \\ldots, x_N)$. Notice that the dimensionality increased by 1.\n",
    "\n",
    "The goal of the algorithm is to find weights, $w$ that classifies given data into correct classes by going through an iteratie processes.\n",
    "\n",
    "## How to find the weights $w$?\n",
    "In each iteration, the weight vector, $w$ has to be updated so that it classifies more and more data into its class and at the end, $w$ classifies all of the data into the correct class. So it is something like \n",
    "\n",
    "$$\n",
    "    w_{i+1} = w_i + \\Delta w_i\\ ,\\ where\\  0 \\leq i \\leq N-1\n",
    "$$\n",
    "\n",
    "The key here is what is $\\delta w_i$? It has to be related to the current prediction and some quantity of the error (how well did the algorithm predicted). This can actually be defined as follows.\n",
    "\n",
    "$$\n",
    "    \\Delta w_i = \\theta (y - \\hat{y})x_i\n",
    "$$\n",
    "where $\\theta$ is learning rate, $\\hat{y}$ is predicted output (0 or 1) at current iteration $i$. The learning rate $\\theta$ is to speed up/slow down the process.\n",
    "\n",
    "If we visualize the process, at each iteration, it moves the weights to the closer position to the target. To this fact, $(y - \\hat{y})$ only defines the direction, $-1$ or $1$.\n",
    "\n",
    "## How to draw the boundary line?\n",
    "In order to visualize the classifier, it is good to draw the line (hyperplane) that divides the data. In 2-D, it will be a line, $y = mx + b$.\n",
    "The way to get the boundary line is the following.\n",
    "\n",
    "    1. Given the weights, w, find two points on the line.\n",
    "    2. Given these two points, find the slope, m, of the line. (rise over run)\n",
    "    3. Given the slope, m and the bias b, find the line of equation.\n",
    "\n",
    "\n",
    "\n",
    "### Find two points on the boundary line.\n",
    "Let $w$ be a vector $(w_0, w_1, w_2)$ that divides the data and $x$ be a point vector $(1, x_0, x_1)$. Then we can derive, \n",
    "$$\n",
    "  w * x = (w_0, w_1, w_2)^T * (1, x_0, x_1) = w_0 + w_1 * x_0 + w_2 * x_1 = 0  \n",
    "$$\n",
    "\n",
    "NOTE: that $x_0$ can be considered as $x$ and $x_1$ as $y$ from the equation of a line.\n",
    "\n",
    "Then, we can solve it for $x_0$ and $x_1$.\n",
    "$$\n",
    "    w_0 + w_1 * x_0 + w_2 * x_1 = 0 \\ =>\\  x_0  = \\frac{-w_2 * x_1 - w_0}{w_1}\n",
    "$$\n",
    "\n",
    "We can derive $x-intercept$ by setting $x_1=0$, then $x_0 = \\frac{-w_0}{w_1}$. \n",
    "\n",
    "For $x_1$, we have\n",
    "\n",
    "$$\n",
    "    w_0 + w_1 * x_0 + w_2 * x_1 = 0 \\ => \\ x_1 = \\frac{-w_1 * x_0 - w_0}{w_2}\n",
    "$$\n",
    "\n",
    "Then, we get $y-intercept$ by setting $x_0=0$, $x_1 = \\frac{-w_0}{w_2}$.\n",
    "\n",
    "So, we have two points, $(\\frac{-w_0}{w_1}, 0)$ and $(0, \\frac{-w_0}{w_2})$.\n",
    "\n",
    "### Find slope of a line.\n",
    "Given these two points above, we get the slope $m$ (rise over run) as follows.\n",
    "$$\n",
    "   m = \\frac{y_1 - y_0}{x_1 - x_0} = \\frac{\\frac{-w_0}{w_2} - 0}{0 - \\frac{-w_0}{w_1}} = -\\frac{\\frac{w_0}{w_2}}{\\frac{w_0}{w_1}}\n",
    "$$\n",
    "\n",
    "### Find line of equation.\n",
    "Since we have slope, $m$ and the $y-intercept$, we get the following.\n",
    "$$\n",
    "    y = mx + b = -\\frac{\\frac{w_0}{w_2}}{\\frac{w_0}{w_1}} * x + (- \\frac{w_0}{w_2})\n",
    "$$"
   ]
  },
  {
   "cell_type": "code",
   "execution_count": 3,
   "metadata": {},
   "outputs": [
    {
     "data": {
      "image/png": "[encoded data removed]",
      "text/plain": "<Figure size 432x288 with 1 Axes>"
     },
     "metadata": {
      "needs_background": "light"
     },
     "output_type": "display_data"
    }
   ],
   "source": [
    "import matplotlib.pyplot as plt\n",
    "import numpy as np\n",
    "import random\n",
    "import perceptron\n",
    "\n",
    "# [x, y, label]\n",
    "matrix = [\n",
    "    [1,  4, 1],\n",
    "    [2,  6, 1],\n",
    "    [1.5,5, 1],\n",
    "    [5,  2, 0],\n",
    "    [7,  1, 0],\n",
    "    [5.5,5, 0]\n",
    "]\n",
    "\n",
    "points1 = np.array([row[:2] for row in matrix if row[2] == 1])\n",
    "points2 = np.array([row[:2] for row in matrix if row[2] == 0])\n",
    "\n",
    "plt.plot(points1[:, 0], points1[:, 1], '^g')\n",
    "plt.plot(points2[:, 0], points2[:, 1], 'ob')\n",
    "\n",
    "plt.show()\n"
   ]
  },
  {
   "cell_type": "code",
   "execution_count": 9,
   "metadata": {},
   "outputs": [
    {
     "data": {
      "image/png": "[encoded data removed]",
      "text/plain": "<Figure size 432x288 with 1 Axes>"
     },
     "metadata": {
      "needs_background": "light"
     },
     "output_type": "display_data"
    }
   ],
   "source": [
    "def y(w, x):\n",
    "    if w[2] == 0 or w[1] == 0:\n",
    "        return x # this case, the division equals to infinite...\n",
    "        \n",
    "    return (w[0]/w[2])/(w[0]/w[1]) * -1 +  (w[0]/w[2]) * -1 * x\n",
    "\n",
    "limit = 20\n",
    "w = perceptron.learn(matrix)\n",
    "\n",
    "plt.plot(points1[:, 0], points1[:, 1], '^g')\n",
    "plt.plot(points2[:, 0], points2[:, 1], 'ob')\n",
    "plt.plot([0,7], [y(w, 0), y(w,7)])\n",
    "plt.show()"
   ]
  },
  {
   "cell_type": "markdown",
   "execution_count": null,
   "metadata": {},
   "outputs": [],
   "source": [
    "# References\n",
    "    - [Perceptron](https://www.youtube.com/watch?v=4Gac5I64LM4)"
   ]
  }
 ]
}