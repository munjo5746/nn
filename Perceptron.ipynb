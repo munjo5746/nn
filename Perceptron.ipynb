{
 "nbformat": 4,
 "nbformat_minor": 2,
 "metadata": {
  "language_info": {
   "name": "python",
   "codemirror_mode": {
    "name": "ipython",
    "version": 3
   },
   "version": "3.7.4-final"
  },
  "orig_nbformat": 2,
  "file_extension": ".py",
  "mimetype": "text/x-python",
  "name": "python",
  "npconvert_exporter": "python",
  "pygments_lexer": "ipython3",
  "version": 3,
  "kernelspec": {
   "name": "python37464bitanaconda3conda43f10a787f9f4639befc426555c44d95",
   "display_name": "Python 3.7.4 64-bit ('anaconda3': conda)"
  }
 },
 "cells": [
  {
   "cell_type": "markdown",
   "execution_count": null,
   "metadata": {},
   "outputs": [],
   "source": [
    "# Perceptron\n",
    "The perceptron is an iterative algorithm that classifies binary separable data. The algorithm takes multiple inputs ($x_i$) and outputs binary data (0 or 1). For each input, there is weights, $w_i$ that indicates how important the input is. The algorithm can be defined as follows in mathematical form. \n",
    "Let's say there are $N$ number of binary data. Then, it goes\n",
    "$$\n",
    "    f(x) = \n",
    "    \\begin{cases}\n",
    "        1,\\ \\sum_{i=1}^N x_i * w_i + b \\\\\n",
    "        0,\\ otherwise\n",
    "    \\end{cases}\n",
    "$$\n",
    "where $x_i$ is input, $w_i$ is the weight and $b$ is the bias that shifts the boundary from the origin.\n",
    "\n",
    "This equation can be simplified using vector notation. By extending the current dimension to $N+1$, the equation can be defined as follows.\n",
    "\n",
    "$$ \n",
    "f(x) =\n",
    "\\begin{cases}\n",
    "    1,\\ w \\cdot x  > 0 \\\\\n",
    "    0,\\ w \\cdot x  \\leq 0\n",
    "\\end{cases}\n",
    "$$\n",
    "\n",
    "where $w = (b, w_1, w_2, \\ldots, w_N)$ and $x = (1, x_1, x_2, \\ldots, x_N)$.\n",
    "\n",
    "The goal of the algorithm is to find weights, $w$ that classifies given data into correct classes."
   ]
  },
  {
   "cell_type": "code",
   "execution_count": 22,
   "metadata": {},
   "outputs": [
    {
     "data": {
      "image/png": "[encoded data removed]",
      "text/plain": "<Figure size 432x288 with 1 Axes>"
     },
     "metadata": {
      "needs_background": "light"
     },
     "output_type": "display_data"
    }
   ],
   "source": [
    "import matplotlib.pyplot as plt\n",
    "import numpy as np\n",
    "import random\n",
    "import perceptron\n",
    "\n",
    "# [x, y, label]\n",
    "matrix = [\n",
    "    [1,  4, 1],\n",
    "    [2,  6, 1],\n",
    "    [1.5,5, 1],\n",
    "    [5,  2, 0],\n",
    "    [7,  1, 0],\n",
    "    [5.5,5, 0]\n",
    "]\n",
    "\n",
    "points1 = np.array([row[:2] for row in matrix if row[2] == 1])\n",
    "points2 = np.array([row[:2] for row in matrix if row[2] == 0])\n",
    "\n",
    "plt.plot(points1[:, 0], points1[:, 1], '^g')\n",
    "plt.plot(points2[:, 0], points2[:, 1], 'ob')\n",
    "\n",
    "plt.show()\n"
   ]
  },
  {
   "cell_type": "code",
   "execution_count": 24,
   "metadata": {},
   "outputs": [
    {
     "ename": "AttributeError",
     "evalue": "module 'perceptron' has no attribute 'learn'",
     "output_type": "error",
     "traceback": [
      "\u001b[0;31m---------------------------------------------------------------------------\u001b[0m",
      "\u001b[0;31mAttributeError\u001b[0m                            Traceback (most recent call last)",
      "\u001b[0;32m<ipython-input-24-81f4f12980ba>\u001b[0m in \u001b[0;36m<module>\u001b[0;34m\u001b[0m\n\u001b[1;32m      3\u001b[0m \u001b[0;34m\u001b[0m\u001b[0m\n\u001b[1;32m      4\u001b[0m \u001b[0mlimit\u001b[0m \u001b[0;34m=\u001b[0m \u001b[0;36m20\u001b[0m\u001b[0;34m\u001b[0m\u001b[0;34m\u001b[0m\u001b[0m\n\u001b[0;32m----> 5\u001b[0;31m \u001b[0mw\u001b[0m \u001b[0;34m=\u001b[0m \u001b[0mperceptron\u001b[0m\u001b[0;34m.\u001b[0m\u001b[0mlearn\u001b[0m\u001b[0;34m(\u001b[0m\u001b[0mmatrix\u001b[0m\u001b[0;34m)\u001b[0m\u001b[0;34m\u001b[0m\u001b[0;34m\u001b[0m\u001b[0m\n\u001b[0m\u001b[1;32m      6\u001b[0m \u001b[0;34m\u001b[0m\u001b[0m\n\u001b[1;32m      7\u001b[0m \u001b[0mplt\u001b[0m\u001b[0;34m.\u001b[0m\u001b[0mplot\u001b[0m\u001b[0;34m(\u001b[0m\u001b[0mpoints1\u001b[0m\u001b[0;34m[\u001b[0m\u001b[0;34m:\u001b[0m\u001b[0;34m,\u001b[0m \u001b[0;36m0\u001b[0m\u001b[0;34m]\u001b[0m\u001b[0;34m,\u001b[0m \u001b[0mpoints1\u001b[0m\u001b[0;34m[\u001b[0m\u001b[0;34m:\u001b[0m\u001b[0;34m,\u001b[0m \u001b[0;36m1\u001b[0m\u001b[0;34m]\u001b[0m\u001b[0;34m,\u001b[0m \u001b[0;34m'^g'\u001b[0m\u001b[0;34m)\u001b[0m\u001b[0;34m\u001b[0m\u001b[0;34m\u001b[0m\u001b[0m\n",
      "\u001b[0;31mAttributeError\u001b[0m: module 'perceptron' has no attribute 'learn'"
     ]
    }
   ],
   "source": [
    "def y(w, x):\n",
    "    return (w[0]/w[2])/(w[0]/w[1]) * -1 +  (w[0]/w[2]) * -1 * x\n",
    "\n",
    "limit = 20\n",
    "w = perceptron.learn(matrix)\n",
    "\n",
    "plt.plot(points1[:, 0], points1[:, 1], '^g')\n",
    "plt.plot(points2[:, 0], points2[:, 1], 'ob')\n",
    "plt.plot([0,7], [y(w, 0), y(w,7)])\n",
    "plt.show()"
   ]
  },
  {
   "cell_type": "markdown",
   "execution_count": null,
   "metadata": {},
   "outputs": [],
   "source": [
    "# References\n",
    "    - [Perceptron](https://www.youtube.com/watch?v=4Gac5I64LM4)"
   ]
  }
 ]
}