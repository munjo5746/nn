{
 "nbformat": 4,
 "nbformat_minor": 2,
 "metadata": {
  "language_info": {
   "name": "python",
   "codemirror_mode": {
    "name": "ipython",
    "version": 3
   },
   "version": "3.7.4-final"
  },
  "orig_nbformat": 2,
  "file_extension": ".py",
  "mimetype": "text/x-python",
  "name": "python",
  "npconvert_exporter": "python",
  "pygments_lexer": "ipython3",
  "version": 3,
  "kernelspec": {
   "name": "python37464bitanaconda3conda43f10a787f9f4639befc426555c44d95",
   "display_name": "Python 3.7.4 64-bit ('anaconda3': conda)"
  }
 },
 "cells": [
  {
   "cell_type": "markdown",
   "execution_count": null,
   "metadata": {},
   "outputs": [],
   "source": [
    "# Perceptron\n",
    "The perceptron is an algorithm for binary classifier. Based on the inputs, it outputs two possible values, 0 or 1.\n",
    "\n",
    "$$ \n",
    "f(x) =\n",
    "\\begin{cases}\n",
    "    1,\\ w \\cdot x + b > 0 \\\\\n",
    "    0,\\ w \\cdot x + b \\leq 0\n",
    "\\end{cases}\n",
    "$$\n",
    "\n",
    "where $w$ and $x$ are vectors, $b$ is scalar bias.\n",
    "\n",
    "The goal of the algorithm is to find $w$ and $b$ so that it classifies binary data properly."
   ]
  },
  {
   "cell_type": "code",
   "execution_count": 2,
   "metadata": {},
   "outputs": [
    {
     "data": {
      "image/png": "[encoded data removed]",
      "text/plain": "<Figure size 432x288 with 1 Axes>"
     },
     "metadata": {
      "needs_background": "light"
     },
     "output_type": "display_data"
    }
   ],
   "source": [
    "import matplotlib.pyplot as plt\n",
    "import numpy as np\n",
    "import random\n",
    "\n",
    "points1 = np.array([\n",
    "    [1,4],\n",
    "    [2,6],\n",
    "    [1.5, 5]\n",
    "]) # labeled as 1\n",
    "\n",
    "points2 = np.array([\n",
    "    [5,2],\n",
    "    [7,1],\n",
    "    [5.5, 3]\n",
    "]) # labeled as 2\n",
    "\n",
    "pointSet = {\n",
    "    1: points1,\n",
    "    2: points2\n",
    "}\n",
    "\n",
    "plt.plot(points1[:, 0], points1[:, 1], '^g')\n",
    "plt.plot(points2[:, 0], points2[:, 1], 'ob')\n",
    "\n",
    "plt.show()\n",
    "\n",
    "points = np.concatenate((points1, points2))"
   ]
  },
  {
   "cell_type": "code",
   "execution_count": 9,
   "metadata": {},
   "outputs": [
    {
     "name": "stdout",
     "output_type": "stream",
     "text": "[-4.  0. -1.] 8.0 [5. 2.]\n[-4.  0. -1.] -29.0 [7. 1.]\n[-3.  1.  3.] -8.0 [1. 4.]\nconverged [-3.  1.  3.]\n"
    }
   ],
   "source": [
    "def convergence(w, pointSet):\n",
    "    for point1 in pointSet[1]:\n",
    "        if np.dot(w, np.insert(point1, 1, 1)) < 0:\n",
    "            return False\n",
    "    \n",
    "    for point2 in pointSet[2]:\n",
    "        if np.dot(w, np.insert(point2, 1, 1)) >= 0:\n",
    "            return False\n",
    "    \n",
    "    return True\n",
    "\n",
    "limit = 100\n",
    "w = np.array([1, 1, 1])\n",
    "\n",
    "while True and limit > 0:\n",
    "    if convergence(w, pointSet):\n",
    "        print('converged', w)\n",
    "        break;\n",
    "        \n",
    "    randomIndex = random.randrange(0, len(points))\n",
    "    point = points[randomIndex]\n",
    "\n",
    "    dotProduct = np.dot(w, np.insert(point, 1, 1))\n",
    "\n",
    "    if point in points1 and dotProduct < 0:\n",
    "        w = np.add(w, np.insert(point, 1, 1))\n",
    "    \n",
    "    if point in points2 and dotProduct >= 0:\n",
    "        w = np.subtract(w, np.insert(point, 1, 1))\n",
    "\n",
    "    print(w, dotProduct, point)\n",
    "\n",
    "    limit -= 1"
   ]
  },
  {
   "cell_type": "markdown",
   "execution_count": null,
   "metadata": {},
   "outputs": [],
   "source": [
    "# References\n",
    "    - [Perceptron](https://www.youtube.com/watch?v=4Gac5I64LM4)"
   ]
  }
 ]
}